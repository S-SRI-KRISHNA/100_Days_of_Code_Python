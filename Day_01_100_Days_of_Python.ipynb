{
  "nbformat": 4,
  "nbformat_minor": 0,
  "metadata": {
    "colab": {
      "provenance": [],
      "collapsed_sections": [
        "OGVaHOrhT-8E",
        "_xseQK9OUOpB"
      ],
      "authorship_tag": "ABX9TyOP3ETORnU5q2txZqQdaXJn",
      "include_colab_link": true
    },
    "kernelspec": {
      "name": "python3",
      "display_name": "Python 3"
    },
    "language_info": {
      "name": "python"
    }
  },
  "cells": [
    {
      "cell_type": "markdown",
      "metadata": {
        "id": "view-in-github",
        "colab_type": "text"
      },
      "source": [
        "<a href=\"https://colab.research.google.com/github/S-SRI-KRISHNA/100_Days_of_Code_Python/blob/main/Day_01_100_Days_of_Python.ipynb\" target=\"_parent\"><img src=\"https://colab.research.google.com/assets/colab-badge.svg\" alt=\"Open In Colab\"/></a>"
      ]
    },
    {
      "cell_type": "markdown",
      "source": [
        "# Print Function"
      ],
      "metadata": {
        "id": "OGVaHOrhT-8E"
      }
    },
    {
      "cell_type": "code",
      "execution_count": null,
      "metadata": {
        "colab": {
          "base_uri": "https://localhost:8080/"
        },
        "id": "eu4WBPf8N5qS",
        "outputId": "2a51a37d-eda9-4c40-bf6c-ac9bd70e92a9"
      },
      "outputs": [
        {
          "output_type": "stream",
          "name": "stdout",
          "text": [
            "Hello World!\n",
            "HelloWorld!\n",
            "Hello World!\n",
            "Hello World !\n",
            "Day 1 - Python Print Function\n",
            "The Function is declared like this:\n",
            "print('What to Print')\n"
          ]
        }
      ],
      "source": [
        "print(\"Hello World!\")\n",
        "print(\"Hello\"+\"World\"+\"!\")\n",
        "print(\"Hello \"+\"World\"+\"!\")\n",
        "print(\"Hello \"+\"World \"+\"!\")\n",
        "print(\"Day 1 - Python Print Function\\nThe Function is declared like this:\\nprint('What to Print')\")\n"
      ]
    },
    {
      "cell_type": "markdown",
      "source": [
        "# Debugging"
      ],
      "metadata": {
        "id": "_xseQK9OUOpB"
      }
    },
    {
      "cell_type": "markdown",
      "source": [
        "Code with Bugs👇🏻\n",
        "\n",
        "---\n",
        "\n",
        "print (Day 1 String Manipulation\")\n",
        "\n",
        "---\n",
        "\n",
        "print(\"String Concatenation is done with the \"+\" sign.\")\n",
        "\n",
        "---\n",
        "\n",
        "\"    \"print('e.g. print (\"Hello + \"world\")')\n",
        "\n",
        "---\n",
        "\n",
        "print((\"New lines can be created with a backslash and n.\")\n",
        "\n"
      ],
      "metadata": {
        "id": "aBV98VSpUnob"
      }
    },
    {
      "cell_type": "code",
      "source": [
        "print(\"Code Without Bugs👇🏻\")\n",
        "print(\"Day 1 String Manipulation\")\n",
        "print('String concatenation is done with \"+\" sign.')\n",
        "print(\"e.g.,print('Hello'+'World')\")\n",
        "print(\"New lines can be created with the backslash and n.\")"
      ],
      "metadata": {
        "colab": {
          "base_uri": "https://localhost:8080/"
        },
        "id": "yjBli9cVUNTR",
        "outputId": "7bd223e7-5a2d-4247-d47c-8a8573fb8b4b"
      },
      "execution_count": null,
      "outputs": [
        {
          "output_type": "stream",
          "name": "stdout",
          "text": [
            "Code Without Bugs👇🏻\n",
            "Day 1 String Manipulation\n",
            "String concatenation is done with \"+\" sign.\n",
            "e.g.,print('Hello'+'World')\n",
            "New lines can be created with the backslash and n.\n"
          ]
        }
      ]
    },
    {
      "cell_type": "markdown",
      "source": [
        "# Input Function"
      ],
      "metadata": {
        "id": "beJkLOUfXG9q"
      }
    },
    {
      "cell_type": "code",
      "source": [
        "print(input(\"What is your name?\\n\") + \" is a ML Expert\")\n",
        "len(input( ))"
      ],
      "metadata": {
        "colab": {
          "base_uri": "https://localhost:8080/"
        },
        "id": "YVJHmAvlXLMs",
        "outputId": "479ce6ae-75f6-47fb-8336-52a67fa1da15"
      },
      "execution_count": null,
      "outputs": [
        {
          "name": "stdout",
          "output_type": "stream",
          "text": [
            "What is your name?\n",
            "Sri Krishna\n",
            "Sri Krishna is a ML Expert\n",
            "Sri Krishna\n"
          ]
        },
        {
          "output_type": "execute_result",
          "data": {
            "text/plain": [
              "11"
            ]
          },
          "metadata": {},
          "execution_count": 13
        }
      ]
    },
    {
      "cell_type": "markdown",
      "source": [
        "# Variables"
      ],
      "metadata": {
        "id": "e2NElrgyaSD8"
      }
    },
    {
      "cell_type": "code",
      "source": [
        "name = input(\"What is your name?\\n\")\n",
        "print(name + \" is a ML Expert\")\n",
        "print(len(input(\"What is your name?\\n\")))\n",
        "length = len(name)\n",
        "print(length)"
      ],
      "metadata": {
        "colab": {
          "base_uri": "https://localhost:8080/"
        },
        "id": "48SQUZxJaUG7",
        "outputId": "39676000-d8f8-41ba-b2c4-7ca9e4555c43"
      },
      "execution_count": null,
      "outputs": [
        {
          "output_type": "stream",
          "name": "stdout",
          "text": [
            "What is your name?\n",
            "Sri Krishna\n",
            "Sri Krishna is a ML Expert\n",
            "What is your name?\n",
            "SriKrishna\n",
            "10\n",
            "11\n"
          ]
        }
      ]
    },
    {
      "cell_type": "code",
      "source": [
        "name = \"Sri Krishna\"\n",
        "name = \"Sivakumar\"\n",
        "print(name)"
      ],
      "metadata": {
        "colab": {
          "base_uri": "https://localhost:8080/"
        },
        "id": "Cr70_WgBbbPX",
        "outputId": "c27f608b-1cb0-48ce-e4a1-416061659b7e"
      },
      "execution_count": null,
      "outputs": [
        {
          "output_type": "stream",
          "name": "stdout",
          "text": [
            "Sivakumar\n"
          ]
        }
      ]
    },
    {
      "cell_type": "code",
      "source": [
        "print(\"Enter the value of a - \")\n",
        "a = int(input())\n",
        "print(\"Enter the value of b - \")\n",
        "b = int(input())\n",
        "sum = a + b\n",
        "print(sum)"
      ],
      "metadata": {
        "colab": {
          "base_uri": "https://localhost:8080/"
        },
        "id": "GKv_qltkcYGM",
        "outputId": "5b4c3200-35b0-4ab5-cb26-e6c4ccb20d6f"
      },
      "execution_count": null,
      "outputs": [
        {
          "output_type": "stream",
          "name": "stdout",
          "text": [
            "Enter the value of a - \n",
            "5\n",
            "Enter the value of b - \n",
            "5\n",
            "10\n"
          ]
        }
      ]
    },
    {
      "cell_type": "code",
      "source": [
        "a = 10\n",
        "b = 10\n",
        "sum = a + b\n",
        "print(sum)"
      ],
      "metadata": {
        "colab": {
          "base_uri": "https://localhost:8080/"
        },
        "id": "VI36nqSMeDKn",
        "outputId": "38046992-b5ac-42d2-b672-a7a51283bc9e"
      },
      "execution_count": null,
      "outputs": [
        {
          "output_type": "stream",
          "name": "stdout",
          "text": [
            "20\n"
          ]
        }
      ]
    },
    {
      "cell_type": "markdown",
      "source": [
        "# Day 01 Project : Band Name Generator"
      ],
      "metadata": {
        "id": "c2WIMRteedHD"
      }
    },
    {
      "cell_type": "code",
      "source": [
        "print(\"Welcome to Bankd Name Generator\")\n",
        "print(\"What is the name of the city you live in?\")\n",
        "city = input()\n",
        "print(\"Name any one equipment of any God\")\n",
        "equipment = input()\n",
        "print(\"The name of your Music Band is - \" + city + \" \" + equipment)"
      ],
      "metadata": {
        "colab": {
          "base_uri": "https://localhost:8080/"
        },
        "id": "BIp64axIejc9",
        "outputId": "56d8a5e3-5c8e-4d4e-fbf3-6ce4ebf2ba6a"
      },
      "execution_count": null,
      "outputs": [
        {
          "output_type": "stream",
          "name": "stdout",
          "text": [
            "Welcome to Bankd Name Generator\n",
            "What is the name of the city you live in?\n",
            "Chennai\n",
            "Name any one equipment of any God\n",
            "Chakra\n",
            "The name of your Music Band is - Chennai Chakra\n"
          ]
        }
      ]
    }
  ]
}